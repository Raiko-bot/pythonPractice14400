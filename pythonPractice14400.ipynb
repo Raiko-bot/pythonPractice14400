{
  "nbformat": 4,
  "nbformat_minor": 0,
  "metadata": {
    "colab": {
      "provenance": [],
      "authorship_tag": "ABX9TyOyOfWMnbAfgJOmrc7kSV3O",
      "include_colab_link": true
    },
    "kernelspec": {
      "name": "python3",
      "display_name": "Python 3"
    },
    "language_info": {
      "name": "python"
    }
  },
  "cells": [
    {
      "cell_type": "markdown",
      "metadata": {
        "id": "view-in-github",
        "colab_type": "text"
      },
      "source": [
        "<a href=\"https://colab.research.google.com/github/Raiko-bot/pythonPractice14400/blob/main/pythonPractice14400.ipynb\" target=\"_parent\"><img src=\"https://colab.research.google.com/assets/colab-badge.svg\" alt=\"Open In Colab\"/></a>"
      ]
    },
    {
      "cell_type": "markdown",
      "source": [
        " # Ejercicios de Práctica\n",
        " ### Estructuras Secuenciales con Python\n",
        "\n",
        " **Nombre:** Antonio sequeda goez\n",
        "\n",
        "_email:_ antonio.sequeda@upb.edu.co\n",
        "\n",
        "*fecha de creacion:* 26 de agosto de 2024\n",
        "\n",
        "_Excelsius!_\n"
      ],
      "metadata": {
        "id": "84SWjw4tI1tI"
      }
    },
    {
      "cell_type": "code",
      "execution_count": null,
      "metadata": {
        "id": "-ViY2sxfIdwR"
      },
      "outputs": [],
      "source": [
        "# ejercicios de practica propuestos por el profesor"
      ]
    },
    {
      "cell_type": "code",
      "source": [
        "# Cálculo de la utilidad en el negocio de venta de viviendas remodeladas\n",
        "\n",
        "a = float(input(\"ingrese la cantidad gastada en la compra de la vivienda \"))\n",
        "b = float(input(\"ingrese la cantidad gastada en la remodelacion de la vivienda \"))\n",
        "c = float(input(\"ingrese la cantidad por la cual se vendio la vivienda \"))\n",
        "d = float(input(\"ingrese el porcentaje de comision de venta de la vivienda (escribir sin el porcentaje) \"))\n",
        "e = ((d/100)*c)\n",
        "\n",
        "utilidad = ( c - (a + b + e))\n",
        "print(\"la utilidad del negocio es de \", utilidad)\n",
        "\n"
      ],
      "metadata": {
        "colab": {
          "base_uri": "https://localhost:8080/"
        },
        "id": "drtJ4eI8JhwP",
        "outputId": "082892bb-2bd4-45b6-e4a7-284d66bbcacd"
      },
      "execution_count": null,
      "outputs": [
        {
          "output_type": "stream",
          "name": "stdout",
          "text": [
            "ingrese la cantidad gastada en la compra de la vivienda100000\n",
            "ingrese la cantidad gastada en la remodelacion de la vivienda 20000\n",
            "ingrese la cantidad por la cual se vendio la vivienda100000\n",
            "ingrese el porcentaje de comision de venta de la vivienda (escribir sin el porcentaje)10\n",
            "la utilidad del negocio es de -30000.0\n"
          ]
        }
      ]
    },
    {
      "cell_type": "code",
      "source": [
        "# Área de un círculo\n",
        "\n",
        "a = float(input(\"ingrese el radio del circulo en centimetros \"))\n",
        "\n",
        "area = 3.1416 * (a**2)\n",
        "print(\"el area del circulo es \", area)\n"
      ],
      "metadata": {
        "colab": {
          "base_uri": "https://localhost:8080/"
        },
        "id": "I2QWHsf-PAvJ",
        "outputId": "094ccc53-c68e-4fcc-c907-91510d5ebb22"
      },
      "execution_count": null,
      "outputs": [
        {
          "output_type": "stream",
          "name": "stdout",
          "text": [
            "ingrese el radio del circulo en centimetros 12\n",
            "el area del circulo es  452.3904\n"
          ]
        }
      ]
    },
    {
      "cell_type": "code",
      "source": [
        "# Muffins\n",
        "#si tenemos la cantidad de ingrediendes para hacer 10 muffins, para encontrar para un solo muffins hay que dividir la cantidad de ingredientes que tenemos entre 10\n",
        "\n",
        "muffins = float(input(\"ingrese el numero de muffins que desea hacer \"))\n",
        "\n",
        "leche = 410/10\n",
        "harina = 280/10\n",
        "levadura = 30/10\n",
        "sal = 2.5/10\n",
        "azucar = 100/10\n",
        "huevos = 2/10\n",
        "mantequilla = 15/10\n",
        "\n",
        "leche1 = leche*muffins\n",
        "harina1 = harina*muffins\n",
        "levadura1 = levadura*muffins\n",
        "sal1 = sal*muffins\n",
        "azucar1 = azucar*muffins\n",
        "huevos1 = huevos*muffins\n",
        "mantequilla1 = mantequilla*muffins\n",
        "\n",
        "print(\"la cantidad de leche necesaria es de \", leche1)\n",
        "print(\"la cantidad de harina necesaria es de \", harina1)\n",
        "print(\"la cantidad de sal necesaria es de \", sal1 )\n",
        "print(\"la cantidad de levadura necesaria es de \", levadura1)\n",
        "print(\"la cantidad de azucar necesaria es de \", azucar1 )\n",
        "print(\"la cantidad de huevos necesaria es de \", huevos1 )\n",
        "print(\"la cantidad de mantequilla necesaria es de \", mantequilla1)\n",
        "\n"
      ],
      "metadata": {
        "id": "KQvQWvHyQOsJ",
        "colab": {
          "base_uri": "https://localhost:8080/"
        },
        "outputId": "b32a1718-539f-4228-80cd-982abfc0fe63"
      },
      "execution_count": 16,
      "outputs": [
        {
          "output_type": "stream",
          "name": "stdout",
          "text": [
            "ingrese el numero de muffins que desea hacer 24\n",
            "la cantidad de leche necesaria es de  984.0\n",
            "la cantidad de harina necesaria es de  672.0\n",
            "la cantidad de sal necesaria es de  6.0\n",
            "la cantidad de levadura necesaria es de  72.0\n",
            "la cantidad de azucar necesaria es de  240.0\n",
            "la cantidad de huevos necesaria es de  4.800000000000001\n",
            "la cantidad de mantequilla necesaria es de  36.0\n"
          ]
        }
      ]
    },
    {
      "cell_type": "code",
      "source": [
        "# nota promedio\n",
        "\n",
        "porcentaje1 = float(input(\"ingrese el porcentaje de la nota 1 (sin el signo de porcetaje) \"))\n",
        "nota1 = float(input(\"ingrese la nota 1 \"))\n",
        "\n",
        "porcentaje2 = float(input(\"ingrese el porcentaje de la nota 2 (sin el signo de porcentaje)\"))\n",
        "nota2 = float(input(\"ingrese la nota 2 \"))\n",
        "\n",
        "total_porcentaje = (porcentaje1 + porcentaje2)\n",
        "promedio_nota = ((nota1+nota2)/2)\n",
        "\n",
        "print(\"Hasta ahora llevas el \", total_porcentaje , \"%\")\n",
        "print(\"El promedio de notas que llevas hasta ahora es \", promedio_nota)"
      ],
      "metadata": {
        "colab": {
          "base_uri": "https://localhost:8080/"
        },
        "id": "CYFFWDHopvU2",
        "outputId": "9025936c-bba7-42f6-c416-b06812fffecc"
      },
      "execution_count": 20,
      "outputs": [
        {
          "output_type": "stream",
          "name": "stdout",
          "text": [
            "ingrese el porcentaje de la nota 1 (sin el signo de porcetaje) 20\n",
            "ingrese la nota 1 4.5\n",
            "ingrese el porcentaje de la nota 2 (sin el signo de porcentaje)20\n",
            "ingrese la nota 2 3\n",
            "Hasta ahora llevas el  40.0 %\n",
            "El promedio de notas que llevas hasta ahora es  3.75\n"
          ]
        }
      ]
    },
    {
      "cell_type": "code",
      "source": [
        "# Cálculo del Salario Neto Descripción\n",
        "\n",
        "salario_bruto = float(input(\"ingrese el salario bruto ($) \"))\n",
        "impuesto = float(input(\"ingrese el porcentaje de impuesto (%) \"))\n",
        "\n",
        "salario_neto = salario_bruto - (salario_bruto*(impuesto/100))\n",
        "\n",
        "print(\"el salario neto es \", salario_neto, \"$\")\n",
        "\n"
      ],
      "metadata": {
        "colab": {
          "base_uri": "https://localhost:8080/"
        },
        "id": "-wGNNfL8s_oV",
        "outputId": "22cff045-13f1-48b2-8014-6bc49d55a227"
      },
      "execution_count": 21,
      "outputs": [
        {
          "output_type": "stream",
          "name": "stdout",
          "text": [
            "ingrese el salario bruto 20000\n",
            "ingrese el porcentaje de impuesto 10\n",
            "el salario neto es  18000.0 $\n"
          ]
        }
      ]
    },
    {
      "cell_type": "code",
      "source": [
        "# Calculadora de Índice de Masa Corporal (IMC)\n",
        "\n",
        "peso = float(input(\"ingrese su peso en kilogramos (Kg)\"))\n",
        "estatura = float(input(\"ingrese su estatura en metros (m) \"))\n",
        "\n",
        "imc = peso/(estatura**2)\n",
        "\n",
        "print(\"su indice de masa corporal es \", imc)"
      ],
      "metadata": {
        "colab": {
          "base_uri": "https://localhost:8080/"
        },
        "id": "AnnknJEPueOb",
        "outputId": "d7d4279a-35ec-43af-d75e-5a471674e7ec"
      },
      "execution_count": 23,
      "outputs": [
        {
          "output_type": "stream",
          "name": "stdout",
          "text": [
            "ingrese su peso en kilogramos 54\n",
            "ingrese su estatura en metros 1.7\n",
            "su indice de masa corporal es  18.68512110726644\n"
          ]
        }
      ]
    },
    {
      "cell_type": "code",
      "source": [
        "# Conversión de Temperaturas\n",
        "\n",
        "celsius = float(input(\"ingrese la temperatura en grados celsius (°) \"))\n",
        "\n",
        "fahrenheit = (celsius * 9/5) + 32\n",
        "\n",
        "print(\"la temperatura en grados fahrenheit es \", fahrenheit,\"grados\")"
      ],
      "metadata": {
        "colab": {
          "base_uri": "https://localhost:8080/"
        },
        "id": "cf8_byjCuwY9",
        "outputId": "313550c5-2594-4c6f-ef4a-ad491e25380c"
      },
      "execution_count": 27,
      "outputs": [
        {
          "output_type": "stream",
          "name": "stdout",
          "text": [
            "ingrese la temperatura en grados celsius 54\n",
            "la temperatura en grados fahrenheit es  129.2 grados\n"
          ]
        }
      ]
    },
    {
      "cell_type": "code",
      "source": [
        "# Cálculo de la Edad en Días\n",
        "\n",
        "años = int(input(\"ingrese la cantidad de años a convertir a dias \"))\n",
        "\n",
        "dias = años*365\n",
        "\n",
        "print(\"la cantidad de dias es \", dias)\n"
      ],
      "metadata": {
        "colab": {
          "base_uri": "https://localhost:8080/"
        },
        "id": "TMA30vEkvJrn",
        "outputId": "a0479fe2-ca0a-44bd-aea5-6e4a7d0d3c3a"
      },
      "execution_count": 28,
      "outputs": [
        {
          "output_type": "stream",
          "name": "stdout",
          "text": [
            "ingrese la cantidad de años a convertir  a dias 34\n",
            "la cantidad de dias es  12410\n"
          ]
        }
      ]
    },
    {
      "cell_type": "code",
      "source": [
        "# Cálculo de Intereses Compuestos\n",
        "capital_incial = float(input(\"ingrese el capital inicial  ($)\"))\n",
        "tasa_interes = float(input(\"ingrese la tasa de interés anual (%)\"))\n",
        "tiempo = float(input(\"ingrese el  número de años de la inversión \"))\n",
        "n = float(input(\"ingrese la cantidad de veces que el interés se capitaliza por año\"))\n",
        "\n",
        "tasa_interes = tasa_interes/100\n",
        "\n",
        "monto_final = capital_incial*(1+(tasa_interes/n))**(n*tiempo)\n",
        "\n",
        "print(\"el monto final es \", monto_final, \"$\")"
      ],
      "metadata": {
        "colab": {
          "base_uri": "https://localhost:8080/"
        },
        "id": "Klsbh-rWvwrz",
        "outputId": "bc85d7c5-dc79-4478-e741-1320c98a94fc"
      },
      "execution_count": 34,
      "outputs": [
        {
          "output_type": "stream",
          "name": "stdout",
          "text": [
            "ingrese el capital inicial  ($)100\n",
            "ingrese la tasa de interés anual (%)10\n",
            "ingrese el  número de años de la inversión 10\n",
            "ingrese la cantidad de veces que el interés se capitaliza por año1\n",
            "el monto final es  259.3742460100002 $\n"
          ]
        }
      ]
    },
    {
      "cell_type": "markdown",
      "source": [],
      "metadata": {
        "id": "sltvGGuWwUTX"
      }
    }
  ]
}